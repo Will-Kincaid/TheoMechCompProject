{
 "cells": [
  {
   "cell_type": "markdown",
   "id": "d673fb00",
   "metadata": {},
   "source": [
    "### Intro"
   ]
  },
  {
   "cell_type": "markdown",
   "id": "4b295bfe",
   "metadata": {},
   "source": [
    "Here is Conor and Will's computational project. The system we are investigating is a harmonograph ($\\href{https://youtu.be/HJYvc-ISrf8?si=28UPteGFD0hYIdjX}{\\text{Check This Out}}$). The system distills into two coupled pendulums and a third uncoupled one."
   ]
  },
  {
   "cell_type": "markdown",
   "id": "b6d7846d",
   "metadata": {},
   "source": [
    "Here is our non dimensional Lagrangian:\n",
    "\n",
    "\\begin{equation}\n",
    "    L = \\frac{1}{2}\\rho_3\\dot{\\theta}^{2}_{3} + \\frac{1}{2}(1+\\rho_2\\)\\gamma^{2}dot{\\theta}^{2}_{3}\n",
    "\\end{equation}"
   ]
  },
  {
   "cell_type": "code",
   "execution_count": 5,
   "id": "f104d6be",
   "metadata": {},
   "outputs": [],
   "source": [
    "import numpy as np\n",
    "from scipy.integrate import odeint\n",
    "import matplotlib.pyplot as plt\n",
    "import pandas as pd"
   ]
  },
  {
   "cell_type": "code",
   "execution_count": 3,
   "id": "24a0e2af",
   "metadata": {},
   "outputs": [],
   "source": [
    "#-------Parameters---------#\n",
    "rho2, gamma2 = 1, 1\n",
    "\n",
    "#------Variables----------#\n"
   ]
  },
  {
   "cell_type": "markdown",
   "id": "a68143fe",
   "metadata": {},
   "source": [
    "First, we need want to solve the double pendulum, because the single pendulum added onto it will be easy.\n",
    "We want to solve the following system:\n",
    "\n",
    "\\begin{equation}\n",
    "\\begin{split}\n",
    "           (1 + \\rho_2)\\ddot{\\theta}_1 + \\rho_2\\gamma_2\\cos(\\theta_2 - \\theta_1)\\ddot{\\theta}_2 - \\rho_2\\gamma_2\\sin(\\theta_2 - \\theta_1)\\dot{\\theta}_2 = - (1+\\rho_2)\\sin(\\theta_1)   // \n",
    "           \\gamma_2\\ddot{\\theta}_2 + \\ddot{\\theta}\n",
    "\\end{split}\n",
    "\\end{equation}"
   ]
  },
  {
   "cell_type": "code",
   "execution_count": 6,
   "id": "5e1ae49b",
   "metadata": {},
   "outputs": [],
   "source": [
    "def first_function(theta1, theta2, theta2dot, theta1ddot, theta2ddot, p2, gamma2):\n",
    "    return\n",
    "    "
   ]
  },
  {
   "cell_type": "code",
   "execution_count": null,
   "id": "d69ed18c",
   "metadata": {},
   "outputs": [],
   "source": []
  }
 ],
 "metadata": {
  "kernelspec": {
   "display_name": "Python 3 (ipykernel)",
   "language": "python",
   "name": "python3"
  },
  "language_info": {
   "codemirror_mode": {
    "name": "ipython",
    "version": 3
   },
   "file_extension": ".py",
   "mimetype": "text/x-python",
   "name": "python",
   "nbconvert_exporter": "python",
   "pygments_lexer": "ipython3",
   "version": "3.10.9"
  }
 },
 "nbformat": 4,
 "nbformat_minor": 5
}
