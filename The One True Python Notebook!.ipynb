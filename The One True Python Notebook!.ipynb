{
 "cells": [
  {
   "cell_type": "markdown",
   "id": "d673fb00",
   "metadata": {},
   "source": [
    "### Intro"
   ]
  },
  {
   "cell_type": "markdown",
   "id": "4b295bfe",
   "metadata": {},
   "source": [
    "Here is Conor and Will's computational project. The system we are investigating is a harmonograph ($\\href{https://youtu.be/HJYvc-ISrf8?si=28UPteGFD0hYIdjX}{\\text{Check This Out}}$). The system distills into two coupled pendulums and a third uncoupled one."
   ]
  },
  {
   "cell_type": "markdown",
   "id": "b6d7846d",
   "metadata": {},
   "source": [
    "Here is our non dimensional Lagrangian:\n",
    "\n",
    "\\begin{equation}\n",
    "    L = \\frac{1}{2}\\rho_3\\dot{\\theta}^{2}_{3} + \\frac{1}{2}(1+\\rho_2)\\gamma^{2}\\dot{\\theta}^{2}_{3} \\(***finish?**)\n",
    "\\end{equation}"
   ]
  },
  {
   "cell_type": "markdown",
   "id": "a68143fe",
   "metadata": {},
   "source": [
    "First, we need want to solve the double pendulum, because the single pendulum added onto it will be easy.\n",
    "We want to solve the following system:\n",
    "\n",
    "\\begin{equation}\n",
    "\\begin{split}\n",
    "           (1 + \\rho_2)\\ddotψ + \\rho_2\\gamma_2\\cos(\\theta_2 - \\theta_1)\\ddot{\\theta}_2 - \\rho_2\\gamma_2\\sin(\\theta_2 - \\theta_1)\\dot{\\theta}_2 = - (1+\\rho_2)\\sin(\\theta_1)   // \n",
    "           \\gamma_2\\ddot{\\theta}_2 + \\ddot{\\theta}\n",
    "\\end{split}\n",
    "\\end{equation}"
   ]
  },
  {
   "cell_type": "code",
   "execution_count": null,
   "id": "d69ed18c",
   "metadata": {},
   "outputs": [],
   "source": [
    "%matplotlib widget #note: you need to change widget to notebook if you're on jupyter notebook.\n",
    "import numpy as np\n",
    "from scipy.integrate import odeint\n",
    "import matplotlib.pyplot as plt\n",
    "from matplotlib.animation import FuncAnimation\n",
    "import pandas as pd\n",
    "\n",
    "def vectorfield(w, t, p):\n",
    "    \"\"\"\n",
    "    used for scipy's odeint function, this defines the vector field given some parameters.\n",
    "    Arguments:\n",
    "        w :  vector of the state variables:\n",
    "                  w0 = [θ, x1, φ, x2, ψ, x3]\n",
    "        t :  time\n",
    "        p :  vector of the parameters:\n",
    "                  p = [p2, g2, g3]\n",
    "    \"\"\"\n",
    "    θ, x1, φ, x2, ψ, x3 = w\n",
    "    p2, g2, g3 = p\n",
    "\n",
    "    # this is just the system of DEs found from the Euler-Lagrange Equations\n",
    "    f = [x1,\n",
    "         (p2*g2*x2**2*np.sin(φ-θ)+p2*x1**2*np.sin(2*(φ-θ))/2+p2*np.sin(φ)*np.cos(φ-θ)-np.sin(θ)) / (1-p2*np.cos(φ-θ)**2),\n",
    "         x2,\n",
    "         (x1**2*np.sin(φ-θ)+p2*g2*x2**2*np.sin(2*(φ-θ))/2-np.sin(θ)*np.cos(φ-θ)+np.sin(φ)) / (p2*g2*np.cos(φ-θ)**2-g2),\n",
    "         x3,\n",
    "         -np.sin(ψ)/g3]\n",
    "    return f\n",
    "\n",
    "def sim(ICsArray, paramArray, stoptime=10.0, numpoints=250):\n",
    "    # Use ODEINT to solve the differential equations defined by the vector field\n",
    "    \"\"\"\n",
    "    This is the function to use if you want to run a simulation of our double pendulum + single\n",
    "    pendulum system! You input the initial conditions and parameters you desire, how long + how\n",
    "    many points to simulate, and it simulates using scipy.integrate's odeint funtcion.\n",
    "    \n",
    "    input format:\n",
    "    ICsArray = [θ, x1, φ, x2, ψ, x3]\n",
    "    θ_ are the initial angles; x_ are the initial nondiminsionalized angular velocities\n",
    "    \n",
    "    paramArray = [p2, g2, g3]\n",
    "    p2 = \"p2\"/(1+\"p2\") = m2/(m1+m2); \"p2\" = m2/m1; g2=l2/l1; g3=l3/l1\n",
    "    \n",
    "    output format:\n",
    "    wsol, t, ICsArray, paramArray\n",
    "    \n",
    "    example call:\n",
    "    wsol, t, *x = sim([.51,0,1.75,0,1,0], [.5,1,1], stoptime=100.0, numpoints = 1000)\n",
    "    θ, ψ = wsol[:,0], wsol[:,4]\n",
    "    f, a = plt.subplots()\n",
    "    plt.plot(θ,ψ)\n",
    "    \"\"\"\n",
    "    # ODE solver parameters\n",
    "    abserr = 1.0e-8\n",
    "    relerr = 1.0e-6\n",
    "    \n",
    "    # Create the time samples for the output of the ODE solver.\n",
    "    # I use a large number of points, only because I want to make\n",
    "    # a plot of the solution that looks nice.\n",
    "    t = [stoptime * float(i) / (numpoints - 1) for i in range(numpoints)]\n",
    "\n",
    "    # Call the ODE solver.\n",
    "    wsol = odeint(vectorfield, ICsArray, t, args=(paramArray,), atol=abserr, rtol=relerr)\n",
    "    return wsol, t, ICsArray, paramArray\n",
    "\n",
    "#makes a simple plot of wsol and t\n",
    "def θtPlot(wsol, t, showθ=True, showφ=True, showψ=True):\n",
    "    \"\"\"\n",
    "    given the outputs of the sim function, makes a simple plot of θ, φ, and ψ vs t\n",
    "    \"\"\"\n",
    "    θ = wsol[:,0]\n",
    "    x1 = wsol[:,1]\n",
    "    φ = wsol[:,2]\n",
    "    x2 = wsol[:,3]\n",
    "    ψ = wsol[:,4]\n",
    "    x3 = wsol[:,5]\n",
    "    \n",
    "    lw = 1\n",
    "    \n",
    "    [fig, ax] = plt.subplots(1)\n",
    "    \n",
    "    if showθ: ax.plot(t, θ, 'b', linewidth=lw)\n",
    "    if showφ: ax.plot(t, φ, 'g', linewidth=lw)\n",
    "    if showψ: ax.plot(t, ψ, 'r', linewidth=lw)\n",
    "    \n",
    "    ax.set_title('θ, φ, ψ vs tau');\n",
    "    ax.set(xlabel=r'$t$', ylabel=r'$θ$')\n",
    "    \n",
    "    fig.legend((r'$θ$', r'$φ$', r'$ψ$'));\n",
    "    \n",
    "    return fig, ax\n",
    "\n",
    "def phasePlot(wsol, showθ=True, showφ=True, showψ=True, bounds=[[-np.pi, np.pi],[-np.pi, np.pi]]):\n",
    "    \"\"\"\n",
    "    given the outputs of the sim function, makes a state-space plot of θ, φ, and ψ\n",
    "    \"\"\"\n",
    "    θ = wsol[:,0]\n",
    "    x1 = wsol[:,1]\n",
    "    φ = wsol[:,2]\n",
    "    x2 = wsol[:,3]\n",
    "    ψ = wsol[:,4]\n",
    "    x3 = wsol[:,5]\n",
    "    \n",
    "    lw = 1\n",
    "\n",
    "    [fig, ax] = plt.subplots(1)\n",
    "\n",
    "    if showθ: ax.plot(θ, x1, 'b', linewidth=lw, label=r'$θ$')\n",
    "    if showφ: ax.plot(φ, x2, 'r', linewidth=lw, label=r'$φ$')\n",
    "    if showψ: ax.plot(ψ, x3, 'g', linewidth=lw, label=r'$ψ$')\n",
    "    ax.set_title(r'$θ$ vs $\\dot{θ}$');\n",
    "    ax.set(xlim=bounds[0], ylim=bounds[1], xlabel=r'$θ$', ylabel=r'$\\dot{θ}$')\n",
    "    \n",
    "    \n",
    "    fig.legend();\n",
    "    return fig, ax\n",
    "\n",
    "\n",
    "def harmAni(wsols, bounds=[[-np.pi, np.pi],[-np.pi, np.pi]], title=\"\"):\n",
    "    \"\"\"\n",
    "    makes a simple animation of θ vs ψ, to emulate harmonograph drawings. notably, \n",
    "    inputs a LIST of wsols, so if you only want to do one you still need to put \n",
    "    square brackets around it. This allows for you to easily tell how different \n",
    "    harmonograph pictures look + see the chaotic paths diverge in real time.\n",
    "    \"\"\"\n",
    "    \n",
    "    numpaths = len(wsols)\n",
    "    θs = [wsol[:,0] for wsol in wsols]\n",
    "    ψs = [wsol[:,4] for wsol in wsols]\n",
    "    \n",
    "    fig, ax = plt.subplots()\n",
    "    paths = [ax.plot(θs[i][0], ψs[i][0], label=\"wsol#\"+str(i))[0] for i in range(numpaths)]\n",
    "    ax.set(xlim=bounds[0], ylim=bounds[1], xlabel=r'$θ$', ylabel=r'$ψ$')\n",
    "    ax.legend()\n",
    "    ax.set_title(\"$θ$ vs $ψ$\" + (\", \"*bool(title)) + title)\n",
    "\n",
    "    def update(frame):\n",
    "        for i in range(numpaths):\n",
    "            paths[i].set_xdata(θs[i][:frame])\n",
    "            paths[i].set_ydata(ψs[i][:frame])\n",
    "        return paths\n",
    "\n",
    "    return FuncAnimation(fig=fig, func=update, frames=len(θs[0]), interval=5)\n",
    "\n",
    "def parseParams(Params):\n",
    "    \"\"\"\n",
    "    parses an array of params into a nice-looking string.\n",
    "    \"\"\"\n",
    "    return r\"$\\rho^\\prime=$\"+str(Params[0])+r\", $\\gamma_2=$\"+str(Params[1])+r\", $\\gamma_3=$\"+str(Params[2])\n",
    "\n",
    "def gridHarmPlots(ICs=[0.75,0,0,0,1,0], Params=[0,1,1], \n",
    "                  varVals={\"p2\":[0,0.05,0.1], \"g2\":[0.5,1,1.5]}, \n",
    "                  bounds=[[-np.pi, np.pi],[-np.pi, np.pi]], \n",
    "                  title=-1,\n",
    "                  stoptime=100.0, numpoints=-1, lw=1):\n",
    "    \"\"\"\n",
    "    makes a 3x3 superplot of harmonograph pictures, with each picture using different\n",
    "    values for p' and g2 as determined by the input \"varVals\".\n",
    "    \"\"\"\n",
    "    if title==-1: \n",
    "        title=r\"$\\rho^\\prime$ between \"+ str(varVals[\"p2\"][0]) +\" and \"+ str(varVals[\"p2\"][2])+\", $\\gamma_2$ between \"+ str(varVals[\"g2\"][0]) +\" and \"+ str(varVals[\"g2\"][2])+ \", $\\gamma_3=$\"+str(Params[2])\n",
    "    if numpoints==-1: numpoints=int(10*stoptime)\n",
    "    \n",
    "    fig, ax = plt.subplots(3,3, sharex=\"all\",sharey=\"all\")\n",
    "    for graphx in range(3):\n",
    "        for graphy in range(3):\n",
    "            Params[0]=varVals[\"p2\"][graphx]\n",
    "            Params[1]=varVals[\"g2\"][graphy]\n",
    "            \n",
    "            wsol,*tx = sim(ICs, Params, stoptime=stoptime, numpoints = numpoints)\n",
    "            θ = wsol[:,0]\n",
    "            ψ = wsol[:,4]\n",
    "            \n",
    "            ax[graphx][graphy].set(xlim=bounds[0], ylim=bounds[1])\n",
    "            ax[graphx][graphy].set_title(parseParams(Params),fontsize=7)\n",
    "            ax[graphx][graphy].plot(θ,ψ,linewidth=lw)\n",
    "        \n",
    "\n",
    "    ax[2][1].set(xlabel=r'$θ$')\n",
    "    ax[1][0].set(ylabel=r'$ψ$')\n",
    "    \n",
    "    fig.suptitle(title)\n",
    "    \n",
    "    return fig, ax"
   ]
  },
  {
   "cell_type": "code",
   "execution_count": null,
   "id": "5383f2c6-8b48-4999-8042-57ff399abba3",
   "metadata": {},
   "outputs": [],
   "source": [
    "gridHarmPlots(bounds=[[-1,1],[-1.2,1.2]]);"
   ]
  },
  {
   "cell_type": "code",
   "execution_count": null,
   "id": "dd2c683a-79b1-457d-8c81-59dbe74c91a6",
   "metadata": {},
   "outputs": [],
   "source": [
    "gridHarmPlots(ICs=[2.5,0,0,0,2.5,0], Params=[-1,-1,2],\n",
    "             varVals={\"p2\":[0.01,0.5,0.99], \"g2\":[0.01,0.5,0.99]},\n",
    "             stoptime=300);"
   ]
  },
  {
   "cell_type": "code",
   "execution_count": null,
   "id": "a23fb09f-e97a-4ba1-8fd6-6133f6fd9d97",
   "metadata": {},
   "outputs": [],
   "source": [
    "plt.close(\"all\")"
   ]
  },
  {
   "cell_type": "code",
   "execution_count": null,
   "id": "8dabbe95-d420-438b-b99a-f5d66799b076",
   "metadata": {},
   "outputs": [],
   "source": [
    "wsol, t, *x = sim([1.5,1,1,1,1,0], [0,1,1], stoptime=50.0, numpoints = 1000)\n",
    "f,a=phasePlot(wsol, showφ=True, showψ=True)\n",
    "a.set_title(r'$θ$ vs $\\dot{θ}$, $\\rho^\\prime=0$, $γ_2=γ_3=1$');\n",
    "# wsol, t = sim([.5,0,1.75,0,1,0], [.5,1,1], stoptime=100.0, numpoints = 1000)\n",
    "# phasePlot(wsol);"
   ]
  },
  {
   "cell_type": "code",
   "execution_count": null,
   "id": "024e1317-a4fa-4717-9c30-6ea7374d6282",
   "metadata": {},
   "outputs": [],
   "source": [
    "plt.close(\"all\")\n",
    "wsol1, t1, *x = sim([.5,0,1.25,0,1,0], [0,1,1], stoptime=100.0, numpoints = 500)\n",
    "wsol2, t2, *x = sim([.5,0,1.75,0,1,0], [0,1,1], stoptime=100.0, numpoints = 500)\n",
    "ani = harmAni([wsol1, wsol2], title=r\"$\\rho^\\prime=0$ for different ICs\")\n",
    "ani.save(\"rho=0.gif\")"
   ]
  },
  {
   "cell_type": "code",
   "execution_count": null,
   "id": "9af8a57b-ff3e-4258-87d2-6103ff8340e9",
   "metadata": {},
   "outputs": [],
   "source": [
    "plt.close(\"all\")\n",
    "wsol1, t1, *x = sim([.5,0,0.75,0,1,0], [.999,1,1], stoptime=10.0, numpoints = 1000)\n",
    "wsol2, t2, *x = sim([.5,0,0.75,0,1,0], [.99,1,1], stoptime=10.0, numpoints = 1000)\n",
    "ani = harmAni([wsol1, wsol2], title=r\"$\\rho^\\prime=0.999 and \\rho^\\prime=0.99$\")\n",
    "ani.save(\"rho=ish1.gif\")"
   ]
  },
  {
   "cell_type": "code",
   "execution_count": null,
   "id": "be4d0c5d-3f6c-45f4-881e-6a09464e9c4f",
   "metadata": {},
   "outputs": [],
   "source": [
    "plt.close(\"all\")\n",
    "wsol1, t1, *x = sim([.5,0,1.25,0,1,0], [0,1,1], stoptime=50.0, numpoints = 250)\n",
    "wsol2, t2, *x = sim([.5,0,1.75,0,1,0], [0,1,1], stoptime=50.0, numpoints = 250)\n",
    "phasePlot(wsol1)\n",
    "phasePlot(wsol2)"
   ]
  },
  {
   "cell_type": "code",
   "execution_count": null,
   "id": "7b54ba73-f8e5-4c62-a851-5ba4db74f5b8",
   "metadata": {},
   "outputs": [],
   "source": [
    "plt.close(\"all\")\n",
    "wsol1, t1, *x = sim([.49,0,1.75,0,1,0], [.5,1,1], stoptime=50.0, numpoints = 250)\n",
    "wsol2, t2, *x = sim([.51,0,1.75,0,1,0], [.5,1,1], stoptime=50.0, numpoints = 250) #makes a heart-shape, sort of!\n",
    "ani = harmAni([wsol1, wsol2])"
   ]
  },
  {
   "cell_type": "code",
   "execution_count": null,
   "id": "573df917-2ed2-43ea-94cf-31760a8002da",
   "metadata": {},
   "outputs": [],
   "source": [
    "#do not touch, it makes a heart.\n",
    "plt.close(\"all\")\n",
    "wsol2, t2, *x = sim([.51,0,1.75,0,1,0], [.5,1,1], stoptime=100.0, numpoints = 1000)\n",
    "ani = harmAni([wsol2])\n",
    "ani.save(\"heartHarm.gif\")"
   ]
  },
  {
   "cell_type": "code",
   "execution_count": null,
   "id": "ac9672d0-6790-4cdf-a739-02d3f4b3018e",
   "metadata": {},
   "outputs": [],
   "source": [
    "#eye, ish!\n",
    "plt.close(\"all\")\n",
    "wsol2, t2, *x = sim([0.5,0,0.5,0,0,0.5], [0.01,1,1], stoptime=100.0, numpoints = 1000)\n",
    "ani = harmAni([wsol2], bounds=[[-1,1],[-1,1]])"
   ]
  },
  {
   "cell_type": "code",
   "execution_count": null,
   "id": "bd9d51e2-fcea-4ca4-97f9-9d8db958507e",
   "metadata": {},
   "outputs": [],
   "source": []
  },
  {
   "cell_type": "code",
   "execution_count": null,
   "id": "372d042e-2849-46ed-a4c3-260cf6315737",
   "metadata": {},
   "outputs": [],
   "source": [
    "pvals = [0, .05, .1]"
   ]
  },
  {
   "cell_type": "code",
   "execution_count": null,
   "id": "ad0e1067-8e43-4b4a-b8f1-17939b5c7b27",
   "metadata": {},
   "outputs": [],
   "source": [
    "wsol, t, *x = sim([.5,0,1.75,0,1,0], [0,1,1], stoptime=100.0, numpoints = 1000)\n",
    "phasePlot(wsol);\n",
    "wsol, t, *x = sim([.5,0,1.75,0,1,0], [.05,1,1], stoptime=100.0, numpoints = 1000)\n",
    "phasePlot(wsol);\n",
    "wsol, t, *x = sim([.5,0,1.75,0,1,0], [.1,1,1], stoptime=100.0, numpoints = 1000)\n",
    "phasePlot(wsol);"
   ]
  },
  {
   "cell_type": "code",
   "execution_count": null,
   "id": "9b617a1f-d608-487f-91b1-183af47ca06d",
   "metadata": {},
   "outputs": [],
   "source": [
    "wsol, t, *x = sim([.51,0,1.75,0,1,0], [.5,1,1], stoptime=1000.0, numpoints = 5000)\n",
    "phasePlot(wsol, showφ=False, showψ=False);\n",
    "# wsol, t, *x = sim([.5,0,1.75,0,1,0], [.5,1,1], stoptime=10.0, numpoints = 1000)\n",
    "# phasePlot(wsol);"
   ]
  },
  {
   "cell_type": "code",
   "execution_count": null,
   "id": "f8849f6f-568e-4f5b-b88b-cc0d6ff0426a",
   "metadata": {},
   "outputs": [],
   "source": []
  },
  {
   "cell_type": "code",
   "execution_count": null,
   "id": "2d43a4f3-5377-40c9-9e33-655fb437f2fb",
   "metadata": {},
   "outputs": [],
   "source": [
    "plt.close(\"all\")"
   ]
  },
  {
   "cell_type": "code",
   "execution_count": null,
   "id": "7c1cd3fe-9221-42b3-b7aa-16af0f86010d",
   "metadata": {},
   "outputs": [],
   "source": [
    "θtPlot(wsol1, t1)\n",
    "θtPlot(wsol2, t2)"
   ]
  },
  {
   "cell_type": "code",
   "execution_count": null,
   "id": "855f65be-c4c4-413f-9504-624f6105ac56",
   "metadata": {},
   "outputs": [],
   "source": [
    "wsol, t, *x = sim([.5,0,2.25,0,1,0], [.5,1,1], stoptime=50.0, numpoints = 250)\n",
    "ani = harmAni([wsol])"
   ]
  },
  {
   "cell_type": "code",
   "execution_count": null,
   "id": "b85e98db-e533-46fd-a5f7-066af6e862b0",
   "metadata": {},
   "outputs": [],
   "source": [
    "wsol, t, *x = sim([.5,0,2.25,0,1,0], [.5,1,1])\n",
    "# θtPlot(wsol, t)\n",
    "\n",
    "fig1, ax1 = plt.subplots(1)\n",
    "θ = wsol[:,0]\n",
    "x1 = wsol[:,1]\n",
    "φ = wsol[:,2]\n",
    "x2 = wsol[:,3]\n",
    "ψ = wsol[:,4]\n",
    "x3 = wsol[:,5]\n",
    "ax1.plot(θ, ψ, 'b', linewidth=1)\n"
   ]
  },
  {
   "cell_type": "code",
   "execution_count": null,
   "id": "bb409009-257c-4f22-aa10-6485da572fc7",
   "metadata": {},
   "outputs": [],
   "source": [
    "wsol, t, *x = sim([1,0,2.25,0,1,0], [.5,1,1])\n",
    "θtPlot(wsol, t)"
   ]
  },
  {
   "cell_type": "code",
   "execution_count": null,
   "id": "4f6ede8e-837d-41cd-ab22-80e5d712e2ea",
   "metadata": {},
   "outputs": [],
   "source": [
    "#demonstration of chaos\n",
    "wsol, t, *x = sim([1,0,2.25,0,1,0], [.5,1,1], stoptime=100.0, numpoints=1000)\n",
    "θtPlot(wsol, t)\n",
    "wsol, t, *x = sim([1.01,0,2.25,0,1,0], [.5,1,1], stoptime=100.0, numpoints=1000)\n",
    "θtPlot(wsol, t)\n",
    "wsol, t, *x = sim([1.0,0.01,2.25,0,1,0], [.5,1,1], stoptime=100.0, numpoints=1000)\n",
    "θtPlot(wsol, t)"
   ]
  },
  {
   "cell_type": "code",
   "execution_count": null,
   "id": "cb7be7bc-0b8e-48bf-b92e-f8f06125cb32",
   "metadata": {},
   "outputs": [],
   "source": [
    "#note that the stuff from theta3 does have an effect on theta 1 and 2, but I'm\n",
    "#pretty sure that this is just because of numerical error in the DE solver,\n",
    "#since these very different conditions for theta 3 only show divergence in theta1\n",
    "#and theta2 after like tau=50, which is comparable/even higher than how long it\n",
    "#takes when I add a miniscule amt. to the theta1 or theta2 ICs.\n",
    "wsol, t, *x = sim([1,0,2.25,0,1,0], [.5,1,1], stoptime=100.0, numpoints=1000)\n",
    "θtPlot(wsol, t)\n",
    "wsol, t, *x = sim([1,0,2.25,0,5,2], [.5,1,1], stoptime=100.0, numpoints=1000)\n",
    "θtPlot(wsol, t)"
   ]
  },
  {
   "cell_type": "code",
   "execution_count": null,
   "id": "8c83008b-ac45-40b7-94cf-d4e0b72123d3",
   "metadata": {},
   "outputs": [],
   "source": [
    "wsol, t, *x = sim([1,0,0,0,1.5,0], [0,1,1], stoptime=100.0, numpoints=1000)\n",
    "θtPlot(wsol, t)\n",
    "\n",
    "wsol, t, *x = sim([1,0,1,0,1.5,0], [0,1,1], stoptime=100.0, numpoints=1000)\n",
    "θtPlot(wsol, t)\n",
    "\n"
   ]
  },
  {
   "cell_type": "code",
   "execution_count": null,
   "id": "599588e7-fa8e-4a07-b73d-595afce60319",
   "metadata": {},
   "outputs": [],
   "source": [
    "#TODO: better captions / titles / etc on graphs\n",
    "\n",
    "#TODO: theta1=theta; theta2=phi; theta3=psi"
   ]
  },
  {
   "cell_type": "code",
   "execution_count": null,
   "id": "41a83db4-1958-46e2-be97-2500282004c6",
   "metadata": {},
   "outputs": [],
   "source": []
  }
 ],
 "metadata": {
  "kernelspec": {
   "display_name": "Python 3",
   "language": "python",
   "name": "python3"
  },
  "language_info": {
   "codemirror_mode": {
    "name": "ipython",
    "version": 3
   },
   "file_extension": ".py",
   "mimetype": "text/x-python",
   "name": "python",
   "nbconvert_exporter": "python",
   "pygments_lexer": "ipython3",
   "version": "3.8.8"
  }
 },
 "nbformat": 4,
 "nbformat_minor": 5
}
