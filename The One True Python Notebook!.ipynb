{
 "cells": [
  {
   "cell_type": "markdown",
   "id": "d673fb00",
   "metadata": {},
   "source": [
    "### Intro"
   ]
  },
  {
   "cell_type": "markdown",
   "id": "4b295bfe",
   "metadata": {},
   "source": [
    "Here is Conor and Will's computational project. The system we are investigating is a harmonograph ($\\href{https://youtu.be/HJYvc-ISrf8?si=28UPteGFD0hYIdjX}{\\text{Check This Out}}$). The system distills into two coupled pendulums and a third uncoupled one."
   ]
  },
  {
   "cell_type": "markdown",
   "id": "b6d7846d",
   "metadata": {},
   "source": [
    "Here is our non dimensional Lagrangian:\n",
    "\n",
    "\\begin{equation}\n",
    "    L = \\frac{1}{2}\\rho_3\\dot{\\theta}^{2}_{3} + \\frac{1}{2}(1+\\rho_2\\)\\gamma^{2}dot{\\theta}^{2}_{3}\n",
    "\\end{equation}"
   ]
  },
  {
   "cell_type": "code",
   "execution_count": 1,
   "id": "f104d6be",
   "metadata": {},
   "outputs": [],
   "source": [
    "import numpy as np\n",
    "from scipy.integrate import odeint\n",
    "import matplotlib.pyplot as plt\n",
    "import pandas as pd"
   ]
  },
  {
   "cell_type": "code",
   "execution_count": null,
   "id": "24a0e2af",
   "metadata": {},
   "outputs": [],
   "source": [
    "#-------Parameters---------#\n",
    "rho2, gamma2 = 1, 1\n",
    "\n",
    "#------Variables----------#\n"
   ]
  },
  {
   "cell_type": "markdown",
   "id": "a68143fe",
   "metadata": {},
   "source": [
    "First, we need want to solve the double pendulum, because the single pendulum added onto it will be easy.\n",
    "We want to solve the following system:\n",
    "\n",
    "\\begin{equation}\n",
    "\\begin{split}\n",
    "           (1 + \\rho_2)\\ddot{\\theta}_1 + \\rho_2\\gamma_2\\cos(\\theta_2 - \\theta_1)\\ddot{\\theta}_2 - \\rho_2\\gamma_2\\sin(\\theta_2 - \\theta_1)\\dot{\\theta}_2 = - (1+\\rho_2)\\sin(\\theta_1)   // \n",
    "           \\gamma_2\\ddot{\\theta}_2 + \\ddot{\\theta}\n",
    "\\end{split}\n",
    "\\end{equation}"
   ]
  },
  {
   "cell_type": "code",
   "execution_count": null,
   "id": "5e1ae49b",
   "metadata": {},
   "outputs": [],
   "source": [
    "def first_function(theta1, theta2, theta2dot, theta1ddot, theta2ddot, p2, gamma2):\n",
    "    return\n",
    "    "
   ]
  },
  {
   "cell_type": "code",
   "execution_count": 50,
   "id": "d69ed18c",
   "metadata": {},
   "outputs": [],
   "source": [
    "def vectorfield(w, t, p):\n",
    "    \"\"\"\n",
    "    Defines the differential equations for the double pendulum.\n",
    "\n",
    "    ***could modify to include the single one too!!!\n",
    "\n",
    "\n",
    "    ***basically all comments are wrong!!!!!**********\n",
    "\n",
    "    Arguments:\n",
    "        w :  vector of the state variables:\n",
    "                  w0 = [θ1, x1, θ2, x2, θ3, x3]\n",
    "        t :  time\n",
    "        p :  vector of the parameters:\n",
    "                  p = [p2, g2, g3]\n",
    "    \"\"\"\n",
    "    θ1, x1, θ2, x2, θ3, x3 = w\n",
    "    p2, g2, g3 = p\n",
    "\n",
    "    # Create f = (θ1',x1',θ2',x2',θ3',x3'):\n",
    "    f = [x1,\n",
    "         (p2*g2*x2**2*np.sin(θ2-θ1)+x1**2*np.sin(2*(θ2-θ1))/2+p2*np.sin(θ2)*np.cos(θ2-θ1)-np.sin(θ1)) / (1-p2*np.cos(θ2-θ1)**2),\n",
    "         x2,\n",
    "         (x1**2*np.sin(θ2-θ1)+p2*g2*x2**2*np.sin(2*(θ2-θ1))/2-np.sin(θ1)*np.cos(θ2-θ1)+np.sin(θ2)) / (p2*g2*np.cos(θ2-θ1)**2-g2),\n",
    "         x3,\n",
    "         -np.sin(θ3)/g3]\n",
    "    return f"
   ]
  },
  {
   "cell_type": "code",
   "execution_count": 51,
   "id": "8c149f51-5dee-4979-81df-313321f19350",
   "metadata": {},
   "outputs": [],
   "source": [
    "# Use ODEINT to solve the differential equations defined by the vector field\n",
    "\n",
    "# Parameter values\n",
    "# p2 = \"p2\"/(1+\"p2\"); \"p2\" = m2/m1; g2=l2/l1; g3=l3/l1\n",
    "p2 = 0.5\n",
    "g2 = 1\n",
    "g3 = 1\n",
    "\n",
    "# Initial conditions\n",
    "# θ_ are the initial angles; x_ are the initial nondiminsionalized angular velocities\n",
    "θ1 = 0.5\n",
    "x1 = 0.0\n",
    "θ2 = 2.25\n",
    "x2 = 0.0\n",
    "θ3 = 1\n",
    "x3 = 0\n",
    "\n",
    "# ODE solver parameters\n",
    "abserr = 1.0e-8\n",
    "relerr = 1.0e-6\n",
    "stoptime = 10.0\n",
    "numpoints = 250\n",
    "\n",
    "# Create the time samples for the output of the ODE solver.\n",
    "# I use a large number of points, only because I want to make\n",
    "# a plot of the solution that looks nice.\n",
    "t = [stoptime * float(i) / (numpoints - 1) for i in range(numpoints)]\n",
    "\n",
    "# Pack up the parameters and initial conditions:\n",
    "p = [p2, g2, g3]\n",
    "w0 = [θ1, x1, θ2, x2, θ3, x3]\n",
    "\n",
    "# Call the ODE solver.\n",
    "wsol = odeint(vectorfield, w0, t, args=(p,),\n",
    "              atol=abserr, rtol=relerr)\n"
   ]
  },
  {
   "cell_type": "code",
   "execution_count": 52,
   "id": "fe4f3701-0948-450c-a763-86043e8480dc",
   "metadata": {},
   "outputs": [
    {
     "data": {
      "image/png": "[encoded data removed]",
      "text/plain": [
       "<Figure size 432x288 with 2 Axes>"
      ]
     },
     "metadata": {
      "needs_background": "light"
     },
     "output_type": "display_data"
    }
   ],
   "source": [
    "θ1 = wsol[:,0]\n",
    "x1 = wsol[:,1]\n",
    "θ2 = wsol[:,2]\n",
    "x2 = wsol[:,3]\n",
    "θ3 = wsol[:,4]\n",
    "x3 = wsol[:,5]\n",
    "\n",
    "lw = 1\n",
    "\n",
    "[fig, ax] = plt.subplots(2)\n",
    "\n",
    "ax[0].plot(t, θ1, 'b', linewidth=lw)\n",
    "ax[0].plot(t, θ2, 'g', linewidth=lw)\n",
    "# ax[0].plot(t, θ3, 'r', linewidth=lw)\n",
    "\n",
    "ax[0].set_title('θ1, θ2, θ3 vs tau');\n",
    "\n",
    "ax[1].plot(t, x1, 'b', linewidth=lw)\n",
    "ax[1].plot(t, x2, 'g', linewidth=lw)\n",
    "# ax[1].plot(t, x3, 'r', linewidth=lw)\n",
    "\n",
    "ax[1].set_title('x1, x2, x3 vs tau');\n",
    "\n",
    "\n",
    "fig.legend((r'$x_1$', r'$x_2$'));"
   ]
  },
  {
   "cell_type": "code",
   "execution_count": null,
   "id": "b85e98db-e533-46fd-a5f7-066af6e862b0",
   "metadata": {},
   "outputs": [],
   "source": []
  }
 ],
 "metadata": {
  "kernelspec": {
   "display_name": "Python 3",
   "language": "python",
   "name": "python3"
  },
  "language_info": {
   "codemirror_mode": {
    "name": "ipython",
    "version": 3
   },
   "file_extension": ".py",
   "mimetype": "text/x-python",
   "name": "python",
   "nbconvert_exporter": "python",
   "pygments_lexer": "ipython3",
   "version": "3.8.8"
  }
 },
 "nbformat": 4,
 "nbformat_minor": 5
}
